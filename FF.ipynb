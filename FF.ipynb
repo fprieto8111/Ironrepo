{
 "cells": [
  {
   "cell_type": "code",
   "execution_count": 1,
   "id": "805a0a17",
   "metadata": {},
   "outputs": [],
   "source": [
    "#Import dependencies\n",
    "import requests\n",
    "import pandas as pd\n",
    "import pprint\n",
    "from bs4 import BeautifulSoup\n",
    "\n",
    "try:\n",
    "    import piplite\n",
    "    await piplite.install(['ipywidgets'])\n",
    "except ImportError:\n",
    "    pass\n",
    "import ipywidgets as widgets\n",
    "\n",
    "import bs4 as bs\n",
    "import urllib.request\n",
    "import re\n",
    "import nltk"
   ]
  },
  {
   "cell_type": "markdown",
   "id": "f7f2c24d",
   "metadata": {},
   "source": [
    "## q = cat\n",
    "('Felinae', 'Carnivora', 'Felis')\n",
    "\n",
    "## Kubernetes\n",
    "('Repository (version control)', 'Go (programming language)')"
   ]
  },
  {
   "cell_type": "code",
   "execution_count": 2,
   "id": "7767b4aa",
   "metadata": {},
   "outputs": [
    {
     "name": "stdout",
     "output_type": "stream",
     "text": [
      "kuber\n"
     ]
    },
    {
     "data": {
      "application/vnd.jupyter.widget-view+json": {
       "model_id": "5ec5fbe97aa0432180d6532e088f6057",
       "version_major": 2,
       "version_minor": 0
      },
      "text/plain": [
       "Select(description='Select 1', options=('Kuber', 'Kubernetes', 'Kubera', 'Kuber Nath Rai', 'Kuberan (2002 film…"
      ]
     },
     "metadata": {},
     "output_type": "display_data"
    }
   ],
   "source": [
    "S = requests.Session()\n",
    "\n",
    "URL = \"https://en.wikipedia.org/w/api.php\"\n",
    "q = input()\n",
    "PARAMS = {\n",
    "    \"action\": \"opensearch\",\n",
    "    \"namespace\": \"0\",\n",
    "    \"search\": q,\n",
    "    \"limit\": \"10\",\n",
    "    \"format\": \"json\"\n",
    "}\n",
    "\n",
    "R = S.get(url=URL, params=PARAMS)\n",
    "DATA = R.json()\n",
    "Datos = DATA[1]\n",
    "\n",
    "thisisit1 = widgets.Select(\n",
    "    options=Datos,\n",
    "    #rows=10,\n",
    "    description='Select 1',\n",
    "    disabled=False\n",
    ")\n",
    "\n",
    "thisisit1"
   ]
  },
  {
   "cell_type": "code",
   "execution_count": 3,
   "id": "85e6b349",
   "metadata": {},
   "outputs": [
    {
     "name": "stdout",
     "output_type": "stream",
     "text": [
      "Kubernetes (, commonly stylized as K8s) is an open-source container orchestration system for automating software deployment, scaling, and management. Google originally designed Kubernetes, but the Cloud Native Computing Foundation now maintains the project.\n",
      "Kubernetes works with Containerd, and CRI-O.  Originally, it interfaced exclusively with the Docker runtime through a \"Dockershim\"; however, from November 2020 up to April 2022, Kubernetes has deprecated the shim in favor of directly interfacing with the container through Containerd, or replacing Docker with a runtime that is compliant with the Container Runtime Interface (CRI). With the release of v1.24 in May 2022, \"Dockershim\" has been removed entirely.\n",
      "\n",
      "\n"
     ]
    }
   ],
   "source": [
    "subject = str(thisisit1.value)\n",
    "url = 'https://en.wikipedia.org/w/api.php'\n",
    "params = {\n",
    "        'action': 'query',\n",
    "        'format': 'json',\n",
    "        'titles': subject,\n",
    "        'prop': 'extracts',\n",
    "        'exintro': True,\n",
    "        'explaintext': True,\n",
    "        'iwurl': True\n",
    "    }\n",
    " \n",
    "response = requests.get(url, params=params)\n",
    "data = response.json()\n",
    " \n",
    "page = next(iter(data['query']['pages'].values()))\n",
    "x= page['extract']\n",
    "pag=(data['query']['pages'].values())\n",
    "print(page['extract'])"
   ]
  },
  {
   "cell_type": "code",
   "execution_count": 4,
   "id": "06048d3b",
   "metadata": {},
   "outputs": [
    {
     "data": {
      "application/vnd.jupyter.widget-view+json": {
       "model_id": "18cc66ce60f0421389b76ef19dcaf367",
       "version_major": 2,
       "version_minor": 0
      },
      "text/plain": [
       "SelectMultiple(description='Expand search', index=(0,), options=('Wikipedia:Manual of Style/Lead section', 'So…"
      ]
     },
     "metadata": {},
     "output_type": "display_data"
    }
   ],
   "source": [
    "params = {\n",
    "            'action':'parse',\n",
    "            'prop':'text',\n",
    "            'format':'json',\n",
    "            'page':subject,\n",
    "            'section':0,\n",
    "            'redirects':''\n",
    "        }\n",
    "\n",
    "data = requests.get(url, params=params).json()\n",
    "soup = BeautifulSoup(data['parse']['text']['*'],'html.parser')\n",
    "links=[]   \n",
    "for a in soup.find_all('a', title=True):\n",
    "    links.append(a['title'])\n",
    "\n",
    "links2=[]\n",
    "for item in links:\n",
    "    if 'Template:Cite' not in item:  # Ignore items that contain the letter 'a'\n",
    "        links2.append(item)\n",
    "links3=[]\n",
    "for item in links2:\n",
    "    if 'Category:' not in item:  # Ignore items that contain the letter 'a'\n",
    "        links3.append(item)\n",
    "links4=[]\n",
    "for item in links3:\n",
    "    if 'Help:' not in item:  # Ignore items that contain the letter 'a'\n",
    "        links4.append(item)\n",
    "        \n",
    "links5=[]\n",
    "for item in links4:\n",
    "    if 'Special:' not in item:  # Ignore items that contain the letter 'a'\n",
    "        links5.append(item)        \n",
    "\n",
    "links6=[]\n",
    "for item in links5:\n",
    "    if 'ISBN:' not in item:  # Ignore items that contain the letter 'a'\n",
    "        links6.append(item)   \n",
    "\n",
    "links7=[]\n",
    "for item in links5:\n",
    "    if 'Location of' not in item:  # Ignore items that contain the letter 'a'\n",
    "        links7.append(item)        \n",
    "\n",
    "#linkss=pd.DataFrame(links4)\n",
    "#linkss=linkss.drop_duplicates().reset_index().drop(\"index\", axis=1)\n",
    "#linksss = pd.DataFrame(links6).drop_duplicates()\n",
    "linksss = links7[0:20]\n",
    "linkn = list(set(linksss))\n",
    "\n",
    "thisisit2 = widgets.SelectMultiple(\n",
    "    options=linkn,\n",
    "    value=[linksss[0]],\n",
    "    #rows=10,\n",
    "    description='Expand search',\n",
    "    disabled=False\n",
    ")\n",
    "\n",
    "thisisit2"
   ]
  },
  {
   "cell_type": "code",
   "execution_count": 5,
   "id": "beab779c",
   "metadata": {},
   "outputs": [
    {
     "name": "stdout",
     "output_type": "stream",
     "text": [
      "('Repository (version control)', 'Go (programming language)')\n"
     ]
    }
   ],
   "source": [
    "val2= thisisit2.value\n",
    "print(val2)"
   ]
  },
  {
   "cell_type": "code",
   "execution_count": 6,
   "id": "6d8b1ae5",
   "metadata": {},
   "outputs": [
    {
     "name": "stdout",
     "output_type": "stream",
     "text": [
      "Repository (version control)\n",
      "In version control systems, a repository is a data structure that stores metadata for a set of files or directory structure. Depending on whether the version control system in use is distributed, like Git or Mercurial, or centralized, like Subversion, CVS, or Perforce, the whole set of information in the repository may be duplicated on every user's system or may be maintained on a single server. Some of the metadata that a repository contains includes, among other things, a historical record of changes in the repository, a set of commit objects, and a set of references to commit objects, called heads.\n",
      "The main purpose of a repository is to store a set of files, as well as the history of changes made to those files. Exactly how each version control system handles storing those changes, however, differs greatly. For instance, Subversion in the past relied on a database instance but has since moved to storing its changes directly on the filesystem. These differences in storage techniques have generally led to diverse uses of version control by different groups, depending on their needs.\n",
      "\n",
      "\n",
      "\n",
      "\n",
      "Go (programming language)\n",
      "Go is a statically typed, compiled programming language designed at Google by Robert Griesemer, Rob Pike, and Ken Thompson. It is syntactically similar to C, but with memory safety, garbage collection, structural typing, and CSP-style concurrency. It is often referred to as Golang because of its former domain name, golang.org, but its proper name is Go.There are two major implementations:\n",
      "\n",
      "Google's self-hosting \"gc\" compiler toolchain, targeting multiple operating systems and WebAssembly.\n",
      "gofrontend, a frontend to other compilers, with the libgo library. With GCC the combination is gccgo; with LLVM the combination is gollvm.A third-party source-to-source compiler, GopherJS, compiles Go to JavaScript for front-end web development.\n",
      "\n",
      "\n",
      "\n",
      "\n"
     ]
    }
   ],
   "source": [
    "for i in val2:\n",
    "    url = 'https://en.wikipedia.org/w/api.php'\n",
    "    params = {\n",
    "            'action': 'query',\n",
    "            'format': 'json',\n",
    "            'titles': i,\n",
    "            'prop': 'extracts',\n",
    "            'exintro': True,\n",
    "            'explaintext': True,\n",
    "            'iwurl': True\n",
    "        }\n",
    "\n",
    "    response = requests.get(url, params=params)\n",
    "    data = response.json()\n",
    "\n",
    "    page = next(iter(data['query']['pages'].values()))\n",
    "    x= page['extract']\n",
    "    pag=(data['query']['pages'].values())\n",
    "    print(i)\n",
    "    print(page['extract'])\n",
    "    print(\"\\n\")"
   ]
  },
  {
   "cell_type": "code",
   "execution_count": 7,
   "id": "bcc7a8d8",
   "metadata": {},
   "outputs": [
    {
     "data": {
      "text/plain": [
       "['Kubernetes', 'Repository_(version_control)', 'Go_(programming_language)']"
      ]
     },
     "execution_count": 7,
     "metadata": {},
     "output_type": "execute_result"
    }
   ],
   "source": [
    "subs = list(val2)\n",
    "subs.insert(0, subject)\n",
    "subs\n",
    "subs2=[]\n",
    "for i in subs:\n",
    "    subs2.append(i.replace(\" \", \"_\" ))\n",
    "subs2"
   ]
  },
  {
   "cell_type": "code",
   "execution_count": 8,
   "id": "c276a096",
   "metadata": {},
   "outputs": [
    {
     "name": "stdout",
     "output_type": "stream",
     "text": [
      "Kubernetes\n",
      "Kubernetes (, commonly stylized as K8s) is an open-source container orchestration system for automating software deployment, scaling, and management. Google originally designed Kubernetes, but the Cloud Native Computing Foundation now maintains the project.\n",
      "Kubernetes works with Containerd, and CRI-O.  Originally, it interfaced exclusively with the Docker runtime through a \"Dockershim\"; however, from November 2020 up to April 2022, Kubernetes has deprecated the shim in favor of directly interfacing with the container through Containerd, or replacing Docker with a runtime that is compliant with the Container Runtime Interface (CRI). With the release of v1.24 in May 2022, \"Dockershim\" has been removed entirely.\n",
      "\n",
      "\n",
      "\n",
      "\n",
      "Auto Summarized Wikipedia Page (Beta)\n",
      "\n",
      "\n",
      "\n",
      "\n",
      "This storage can also be used as shared disk space for containers within the pod. For some use cases, though, there could be a need to run a pod on every single node in the cluster. Containers may be ephemeral, but more and more of their data is not, so one needs to ensure the data's survival in case of container termination or hardware failure. They need to provide fast and reliable storage for databases, root images and other data used by the containers. Each pod in Kubernetes is assigned a unique IP address within the cluster, allowing applications to use ports without the risk of conflict. A pod can define a volume, such as a local disk directory or a network disk, and expose it to the containers in the pod. Volumes are mounted at specific mount points within the container, which are defined by the pod configuration, and cannot mount onto other volumes or link to other volumes.\n",
      "\n",
      "\n",
      "Repository_(version_control)\n",
      "In version control systems, a repository is a data structure that stores metadata for a set of files or directory structure. Depending on whether the version control system in use is distributed, like Git or Mercurial, or centralized, like Subversion, CVS, or Perforce, the whole set of information in the repository may be duplicated on every user's system or may be maintained on a single server. Some of the metadata that a repository contains includes, among other things, a historical record of changes in the repository, a set of commit objects, and a set of references to commit objects, called heads.\n",
      "The main purpose of a repository is to store a set of files, as well as the history of changes made to those files. Exactly how each version control system handles storing those changes, however, differs greatly. For instance, Subversion in the past relied on a database instance but has since moved to storing its changes directly on the filesystem. These differences in storage techniques have generally led to diverse uses of version control by different groups, depending on their needs.\n",
      "\n",
      "\n",
      "\n",
      "\n",
      "Auto Summarized Wikipedia Page (Beta)\n",
      "\n",
      "\n",
      "\n",
      "\n",
      "In software engineering, a version control system is used to keep track of versions of a set of files, usually to allow multiple developers to collaborate on a project. In version control systems, a repository is a data structure that stores metadata for a set of files or directory structure. The main purpose of a repository is to store a set of files, as well as the history of changes made to those files. Exactly how each version control system handles storing those changes, however, differs greatly. A Distributed version control system is made up of central and branch repositories. A code forge is a web interface to a version control system. These differences in storage techniques have generally led to diverse uses of version control by different groups, depending on their needs.\n",
      "\n",
      "\n",
      "Go_(programming_language)\n",
      "Go is a statically typed, compiled programming language designed at Google by Robert Griesemer, Rob Pike, and Ken Thompson. It is syntactically similar to C, but with memory safety, garbage collection, structural typing, and CSP-style concurrency. It is often referred to as Golang because of its former domain name, golang.org, but its proper name is Go.There are two major implementations:\n",
      "\n",
      "Google's self-hosting \"gc\" compiler toolchain, targeting multiple operating systems and WebAssembly.\n",
      "gofrontend, a frontend to other compilers, with the libgo library. With GCC the combination is gccgo; with LLVM the combination is gollvm.A third-party source-to-source compiler, GopherJS, compiles Go to JavaScript for front-end web development.\n",
      "\n",
      "\n",
      "\n",
      "\n",
      "Auto Summarized Wikipedia Page (Beta)\n",
      "\n",
      "\n",
      "\n",
      "\n",
      "Any object of type T for which functions exist matching all the required methods of interface type I is an object of type I as well. An object which is of an interface type is also of another type, much like C++ objects being simultaneously of a base and derived class. Across package boundaries, Go includes a canonical error type, and multi-value returns using this type are the standard idiom. The definition of an interface type lists required methods by name and type. For each type T and each non-negative integer constant n, there is an array type denoted [n]T; arrays of differing lengths are thus of different types. For a pair of types K, V, the type map[K]V is the type of hash tables mapping type-K keys to type-V values. : 282–283 Besides calling methods via interfaces, Go allows converting interface values to other types with a run-time type check.\n",
      "\n",
      "\n"
     ]
    }
   ],
   "source": [
    "l=[]\n",
    "subs = list(val2)\n",
    "subs.insert(0, subject)\n",
    "subs\n",
    "subs2=[]\n",
    "for i in subs:\n",
    "    subs2.append(i.replace(\" \", \"_\" ))\n",
    "subs2\n",
    "\n",
    "for i in subs2:\n",
    "    url = 'https://en.wikipedia.org/w/api.php'\n",
    "    params = {\n",
    "            'action': 'query',\n",
    "            'format': 'json',\n",
    "            'titles': i,\n",
    "            'prop': 'extracts',\n",
    "            'exintro': True,\n",
    "            'explaintext': True,\n",
    "            'iwurl': True\n",
    "        }\n",
    "\n",
    "    response = requests.get(url, params=params)\n",
    "    data = response.json()\n",
    "\n",
    "    page = next(iter(data['query']['pages'].values()))\n",
    "    x= page['extract']\n",
    "    pag=(data['query']['pages'].values())\n",
    "    print(i)\n",
    "    l.append(i)\n",
    "    l.append(page['extract'])\n",
    "    print(page['extract'])\n",
    "    print(\"\\n\")\n",
    "    print(\"Auto Summarized Wikipedia Page (Beta)\")\n",
    "    print(\"\\n\")\n",
    "    print(\"\\n\")\n",
    "    \n",
    "    url = ('https://en.wikipedia.org/wiki/'+i)\n",
    "\n",
    "    scraped_data = urllib.request.urlopen(url)\n",
    "    article = scraped_data.read()\n",
    "\n",
    "    parsed_article = bs.BeautifulSoup(article,'lxml')\n",
    "\n",
    "    paragraphs = parsed_article.find_all('p')\n",
    "\n",
    "    article_text = \"\"\n",
    "\n",
    "    for p in paragraphs:\n",
    "        article_text += p.text\n",
    "    # Removing Square Brackets and Extra Spaces\n",
    "    article_text = re.sub(r'\\[[0-9]*\\]', ' ', article_text)\n",
    "    article_text = re.sub(r'\\s+', ' ', article_text)\n",
    "    # Removing special characters and digits\n",
    "    formatted_article_text = re.sub('[^a-zA-Z]', ' ', article_text )\n",
    "    formatted_article_text = re.sub(r'\\s+', ' ', formatted_article_text)\n",
    "    sentence_list = nltk.sent_tokenize(article_text)\n",
    "    stopwords = nltk.corpus.stopwords.words('english')\n",
    "\n",
    "    word_frequencies = {}\n",
    "    for word in nltk.word_tokenize(formatted_article_text):\n",
    "        if word not in stopwords:\n",
    "            if word not in word_frequencies.keys():\n",
    "                word_frequencies[word] = 1\n",
    "            else:\n",
    "                word_frequencies[word] += 1\n",
    "        maximum_frequncy = max(word_frequencies.values())\n",
    "    for word in word_frequencies.keys():\n",
    "        word_frequencies[word] = (word_frequencies[word]/maximum_frequncy)\n",
    "        sentence_scores = {}\n",
    "    for sent in sentence_list:\n",
    "        for word in nltk.word_tokenize(sent.lower()):\n",
    "            if word in word_frequencies.keys():\n",
    "                if len(sent.split(' ')) < 30:\n",
    "                    if sent not in sentence_scores.keys():\n",
    "                        sentence_scores[sent] = word_frequencies[word]\n",
    "                    else:\n",
    "                        sentence_scores[sent] += word_frequencies[word]\n",
    "    import heapq\n",
    "    summary_sentences = heapq.nlargest(7, sentence_scores, key=sentence_scores.get)\n",
    "\n",
    "    summary = ' '.join(summary_sentences)\n",
    "    print(summary)\n",
    "    l.append(\"Auto Summarized Wikipedia Page (Beta)\")\n",
    "    l.append(summary)\n",
    "    print(\"\\n\")"
   ]
  },
  {
   "cell_type": "code",
   "execution_count": 113,
   "id": "1002f5b3",
   "metadata": {},
   "outputs": [
    {
     "data": {
      "text/plain": [
       "['Kubernetes',\n",
       " 'Kubernetes (, commonly stylized as K8s) is an open-source container orchestration system for automating software deployment, scaling, and management. Google originally designed Kubernetes, but the Cloud Native Computing Foundation now maintains the project.\\nKubernetes works with Containerd, and CRI-O.  Originally, it interfaced exclusively with the Docker runtime through a \"Dockershim\"; however, from November 2020 up to April 2022, Kubernetes has deprecated the shim in favor of directly interfacing with the container through Containerd, or replacing Docker with a runtime that is compliant with the Container Runtime Interface (CRI). With the release of v1.24 in May 2022, \"Dockershim\" has been removed entirely.\\n\\n',\n",
       " 'Auto Summarized Wikipedia Page (Beta)',\n",
       " \"This storage can also be used as shared disk space for containers within the pod. For some use cases, though, there could be a need to run a pod on every single node in the cluster. Containers may be ephemeral, but more and more of their data is not, so one needs to ensure the data's survival in case of container termination or hardware failure. They need to provide fast and reliable storage for databases, root images and other data used by the containers. Each pod in Kubernetes is assigned a unique IP address within the cluster, allowing applications to use ports without the risk of conflict. A pod can define a volume, such as a local disk directory or a network disk, and expose it to the containers in the pod. Volumes are mounted at specific mount points within the container, which are defined by the pod configuration, and cannot mount onto other volumes or link to other volumes.\",\n",
       " 'Repository_(version_control)',\n",
       " \"In version control systems, a repository is a data structure that stores metadata for a set of files or directory structure. Depending on whether the version control system in use is distributed, like Git or Mercurial, or centralized, like Subversion, CVS, or Perforce, the whole set of information in the repository may be duplicated on every user's system or may be maintained on a single server. Some of the metadata that a repository contains includes, among other things, a historical record of changes in the repository, a set of commit objects, and a set of references to commit objects, called heads.\\nThe main purpose of a repository is to store a set of files, as well as the history of changes made to those files. Exactly how each version control system handles storing those changes, however, differs greatly. For instance, Subversion in the past relied on a database instance but has since moved to storing its changes directly on the filesystem. These differences in storage techniques have generally led to diverse uses of version control by different groups, depending on their needs.\\n\\n\",\n",
       " 'Auto Summarized Wikipedia Page (Beta)',\n",
       " 'In software engineering, a version control system is used to keep track of versions of a set of files, usually to allow multiple developers to collaborate on a project. In version control systems, a repository is a data structure that stores metadata for a set of files or directory structure. The main purpose of a repository is to store a set of files, as well as the history of changes made to those files. Exactly how each version control system handles storing those changes, however, differs greatly. A Distributed version control system is made up of central and branch repositories. A code forge is a web interface to a version control system. These differences in storage techniques have generally led to diverse uses of version control by different groups, depending on their needs.',\n",
       " 'Go_(programming_language)',\n",
       " 'Go is a statically typed, compiled programming language designed at Google by Robert Griesemer, Rob Pike, and Ken Thompson. It is syntactically similar to C, but with memory safety, garbage collection, structural typing, and CSP-style concurrency. It is often referred to as Golang because of its former domain name, golang.org, but its proper name is Go.There are two major implementations:\\n\\nGoogle\\'s self-hosting \"gc\" compiler toolchain, targeting multiple operating systems and WebAssembly.\\ngofrontend, a frontend to other compilers, with the libgo library. With GCC the combination is gccgo; with LLVM the combination is gollvm.A third-party source-to-source compiler, GopherJS, compiles Go to JavaScript for front-end web development.',\n",
       " 'Auto Summarized Wikipedia Page (Beta)',\n",
       " 'Any object of type T for which functions exist matching all the required methods of interface type I is an object of type I as well. An object which is of an interface type is also of another type, much like C++ objects being simultaneously of a base and derived class. Across package boundaries, Go includes a canonical error type, and multi-value returns using this type are the standard idiom. The definition of an interface type lists required methods by name and type. For each type T and each non-negative integer constant n, there is an array type denoted [n]T; arrays of differing lengths are thus of different types. For a pair of types K, V, the type map[K]V is the type of hash tables mapping type-K keys to type-V values. : 282–283 Besides calling methods via interfaces, Go allows converting interface values to other types with a run-time type check.']"
      ]
     },
     "execution_count": 113,
     "metadata": {},
     "output_type": "execute_result"
    }
   ],
   "source": [
    "l"
   ]
  },
  {
   "cell_type": "code",
   "execution_count": 9,
   "id": "e7b47a20",
   "metadata": {},
   "outputs": [
    {
     "name": "stdout",
     "output_type": "stream",
     "text": [
      "File written successfully\n"
     ]
    }
   ],
   "source": [
    "with open('gfg.txt', 'w+') as f:\n",
    "     \n",
    "    # write elements of list\n",
    "    for items in l:\n",
    "        f.write('%s\\n' %items)\n",
    "     \n",
    "    print(\"File written successfully\")\n",
    " \n",
    " \n",
    "# close the file\n",
    "f.close()"
   ]
  },
  {
   "cell_type": "code",
   "execution_count": null,
   "id": "5030bfbe",
   "metadata": {},
   "outputs": [],
   "source": []
  }
 ],
 "metadata": {
  "kernelspec": {
   "display_name": "Python 3 (ipykernel)",
   "language": "python",
   "name": "python3"
  },
  "language_info": {
   "codemirror_mode": {
    "name": "ipython",
    "version": 3
   },
   "file_extension": ".py",
   "mimetype": "text/x-python",
   "name": "python",
   "nbconvert_exporter": "python",
   "pygments_lexer": "ipython3",
   "version": "3.9.12"
  }
 },
 "nbformat": 4,
 "nbformat_minor": 5
}
